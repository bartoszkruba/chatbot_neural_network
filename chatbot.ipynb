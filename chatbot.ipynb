{
 "cells": [
  {
   "cell_type": "code",
   "execution_count": 204,
   "metadata": {
    "collapsed": true,
    "pycharm": {
     "name": "#%%\n",
     "is_executing": false
    }
   },
   "outputs": [],
   "source": [
    "import torch\n",
    "import torch.nn as nn #Neural Networks package\n",
    "from torch import optim #Optimisers\n",
    "import torch.nn.functional as F \n",
    "import csv\n",
    "import random\n",
    "import re\n",
    "import os\n",
    "import unicodedata\n",
    "import codecs\n",
    "import itertools"
   ]
  },
  {
   "cell_type": "code",
   "execution_count": 205,
   "outputs": [],
   "source": [
    "CUDA = torch.cuda.is_available()\n",
    "device = torch.device(\"cuda\" if CUDA else \"cpu\")"
   ],
   "metadata": {
    "collapsed": false,
    "pycharm": {
     "name": "#%%\n",
     "is_executing": false
    }
   }
  },
  {
   "cell_type": "markdown",
   "source": [
    "### Part 1: Preprocessing"
   ],
   "metadata": {
    "collapsed": false
   }
  },
  {
   "cell_type": "code",
   "execution_count": 206,
   "outputs": [],
   "source": [
    "lines_filepath = os.path.join('cornell movie-dialogs corpus', 'movie_lines.txt')\n",
    "conv_filepath = os.path.join('cornell movie-dialogs corpus', 'movie_conversations.txt')"
   ],
   "metadata": {
    "collapsed": false,
    "pycharm": {
     "name": "#%%\n",
     "is_executing": false
    }
   }
  },
  {
   "cell_type": "code",
   "execution_count": 207,
   "outputs": [
    {
     "name": "stdout",
     "text": [
      "L1045 +++$+++ u0 +++$+++ m0 +++$+++ BIANCA +++$+++ They do not!\nL1044 +++$+++ u2 +++$+++ m0 +++$+++ CAMERON +++$+++ They do to!\nL985 +++$+++ u0 +++$+++ m0 +++$+++ BIANCA +++$+++ I hope so.\nL984 +++$+++ u2 +++$+++ m0 +++$+++ CAMERON +++$+++ She okay?\nL925 +++$+++ u0 +++$+++ m0 +++$+++ BIANCA +++$+++ Let's go.\nL924 +++$+++ u2 +++$+++ m0 +++$+++ CAMERON +++$+++ Wow\nL872 +++$+++ u0 +++$+++ m0 +++$+++ BIANCA +++$+++ Okay -- you're gonna need to learn how to lie.\nL871 +++$+++ u2 +++$+++ m0 +++$+++ CAMERON +++$+++ No\n"
     ],
     "output_type": "stream"
    }
   ],
   "source": [
    "#Visualise some lines\n",
    "with open(lines_filepath ,'r', errors=\"ignore\") as file:\n",
    "    lines = file.readlines()\n",
    "for line in lines[:8]:\n",
    "    print(line.strip())"
   ],
   "metadata": {
    "collapsed": false,
    "pycharm": {
     "name": "#%%\n",
     "is_executing": false
    }
   }
  },
  {
   "cell_type": "code",
   "execution_count": 208,
   "outputs": [],
   "source": [
    "#Splits each line of the file into a dictionary of fields(lineID, characterID, movieID, character, text)\n",
    "lines_fields = ['lineID', 'characterID', 'movieID', 'character', 'text']\n",
    "lines = {}\n",
    "with open(lines_filepath, 'r', encoding='iso-8859-1') as f:\n",
    "    for line in f:\n",
    "        values = line.split(' +++$+++ ')\n",
    "        #Extract fields\n",
    "        lineObj = {}\n",
    "        for i, field in enumerate(lines_fields):\n",
    "            lineObj[field] = values[i]\n",
    "        lines[lineObj['lineID']] = lineObj"
   ],
   "metadata": {
    "collapsed": false,
    "pycharm": {
     "name": "#%%\n",
     "is_executing": false
    }
   }
  },
  {
   "cell_type": "code",
   "execution_count": 209,
   "outputs": [],
   "source": [
    "#Groups fields of lines from 'LoadLines' into conversations based on \"movie_conversations.txt\"\n",
    "conv_fields = ['characterID', 'character2ID', 'movieID', 'utteranceIDs']\n",
    "conversations = []\n",
    "with open(conv_filepath, 'r', encoding='iso-8859-1') as f:\n",
    "    for line in f:\n",
    "        values = line.split(' +++$+++ ')\n",
    "        #Extract fields\n",
    "        convObj = {}\n",
    "        for i, field in enumerate(conv_fields):\n",
    "            convObj[field] = values[i]\n",
    "        #Convert string result from split to list, since convObj['utteranceIDs'] == \"['id123', 'id123213', ...]\"\n",
    "        lineIds = eval(convObj['utteranceIDs'])\n",
    "        #Reassemble lines\n",
    "        convObj['lines'] = []\n",
    "        for lineId in lineIds:\n",
    "            convObj['lines'].append(lines[lineId])\n",
    "        conversations.append(convObj)"
   ],
   "metadata": {
    "collapsed": false,
    "pycharm": {
     "name": "#%%\n",
     "is_executing": false
    }
   }
  },
  {
   "cell_type": "code",
   "execution_count": 210,
   "outputs": [],
   "source": [
    "#Extract pairs of sentences from conversations\n",
    "qa_pairs = []\n",
    "for conversation in conversations:\n",
    "    #Iterate over all the lines of the conversation\n",
    "    for i in range(len(conversation[\"lines\"]) -1):\n",
    "        inputLine = conversation['lines'][i]['text'].strip()\n",
    "        targetLine = conversation['lines'][i+1]['text'].strip()\n",
    "        if inputLine and targetLine:\n",
    "            qa_pairs.append([inputLine, targetLine])"
   ],
   "metadata": {
    "collapsed": false,
    "pycharm": {
     "name": "#%%\n",
     "is_executing": false
    }
   }
  },
  {
   "cell_type": "code",
   "execution_count": 211,
   "outputs": [
    {
     "name": "stdout",
     "text": [
      "\nWriting newly formatted fisle...\n",
      "Done writing to file\n"
     ],
     "output_type": "stream"
    }
   ],
   "source": [
    "#Define path to new file\n",
    "datafile = os.path.join('cornell movie-dialogs corpus', 'formatted_movie_lines.txt')\n",
    "delimiter = '\\t'\n",
    "#Unescape the delimiter\n",
    "delimiter = str(codecs.decode(delimiter, 'unicode_escape'))\n",
    "\n",
    "#Write new csv file\n",
    "print('\\nWriting newly formatted fisle...')\n",
    "with open(datafile, \"w\", encoding=\"utf-8\") as outputfile:\n",
    "    writer = csv.writer(outputfile, delimiter=delimiter)\n",
    "    for pair in qa_pairs:\n",
    "        writer.writerow(pair)\n",
    "print('Done writing to file')"
   ],
   "metadata": {
    "collapsed": false,
    "pycharm": {
     "name": "#%%\n",
     "is_executing": false
    }
   }
  },
  {
   "cell_type": "code",
   "execution_count": 212,
   "outputs": [
    {
     "name": "stdout",
     "text": [
      "b\"Can we make this quick?  Roxanne Korrine and Andrew Barrett are having an incredibly horrendous public break- up on the quad.  Again.\\tWell, I thought we'd start with pronunciation, if that's okay with you.\\r\\n\"\nb\"Well, I thought we'd start with pronunciation, if that's okay with you.\\tNot the hacking and gagging and spitting part.  Please.\\r\\n\"\nb\"Not the hacking and gagging and spitting part.  Please.\\tOkay... then how 'bout we try out some French cuisine.  Saturday?  Night?\\r\\n\"\nb\"You're asking me out.  That's so cute. What's your name again?\\tForget it.\\r\\n\"\nb\"No, no, it's my fault -- we didn't have a proper introduction ---\\tCameron.\\r\\n\"\nb\"Cameron.\\tThe thing is, Cameron -- I'm at the mercy of a particularly hideous breed of loser.  My sister.  I can't date until she does.\\r\\n\"\nb\"The thing is, Cameron -- I'm at the mercy of a particularly hideous breed of loser.  My sister.  I can't date until she does.\\tSeems like she could get a date easy enough...\\r\\n\"\nb'Why?\\tUnsolved mystery.  She used to be really popular when she started high school, then it was just like she got sick of it or something.\\r\\n'\n"
     ],
     "output_type": "stream"
    }
   ],
   "source": [
    "#Visualize some lines\n",
    "datafile = os.path.join('cornell movie-dialogs corpus', 'formatted_movie_lines.txt')\n",
    "with open(datafile, 'rb') as file:\n",
    "    lines = file.readlines()\n",
    "for line in lines[:8]:\n",
    "    print(line)"
   ],
   "metadata": {
    "collapsed": false,
    "pycharm": {
     "name": "#%%\n",
     "is_executing": false
    }
   }
  },
  {
   "cell_type": "code",
   "execution_count": 213,
   "outputs": [],
   "source": [
    "PAD_token = 0 # Used for padding short sentences\n",
    "SOS_token = 1 # Start-of-sentence token <START>\n",
    "EOS_token = 2 # End-of-sentence token <END>\n",
    "\n",
    "class Vocabulary:\n",
    "    def __init__(self, name):\n",
    "        self.name = name\n",
    "        self.word2index = {}\n",
    "        self.word2count = {}\n",
    "        self.index2word = {PAD_token: \"PAD\", SOS_token: \"SOS\", EOS_token: \"EOS\"}\n",
    "        self.num_words = 3 #Count SOS, EOS, PAD\n",
    "    \n",
    "    def addSentence(self, sentence):\n",
    "        for word in sentence.split(' '):\n",
    "            self.addWord(word)\n",
    "            \n",
    "    def addWord(self, word):\n",
    "        if word not in self.word2index:\n",
    "            self.word2index[word] = self.num_words\n",
    "            self.word2count[word] = 1\n",
    "            self.index2word[self.num_words] = word\n",
    "            self.num_words +=1\n",
    "        else:\n",
    "            self.word2count[word] += 1\n",
    "        \n",
    "    # Remove words below certain threshold    \n",
    "    def trim(self, min_count):\n",
    "        keep_words = []\n",
    "        for k, v in self.word2count.items():\n",
    "            if v >= min_count:\n",
    "                keep_words.append(k)\n",
    "        print('keep_words {} / {} = {:.4f}'\n",
    "              .format(len(keep_words), len(self.word2count), len(keep_words) / len(self.word2index)))\n",
    "            \n",
    "        #Reinitialize dictionaries\n",
    "        self.word2index = {}\n",
    "        self.word2count = {}\n",
    "        self.index2word = {PAD_token: \"PAD\", SOS_token: \"SOS\", EOS_token: \"EOS\"}\n",
    "        self.num_words = 3 #Count default tokens\n",
    "        \n",
    "        for word in keep_words:\n",
    "            self.addWord(word)"
   ],
   "metadata": {
    "collapsed": false,
    "pycharm": {
     "name": "#%%\n",
     "is_executing": false
    }
   }
  },
  {
   "cell_type": "code",
   "execution_count": 214,
   "outputs": [],
   "source": [
    "# Turn unicode string to plan ASCII\n",
    "def unicodeToAscii(s):\n",
    "    return ''.join(c for c in unicodedata.normalize('NFD', s) if unicodedata.category(c) != 'Mn')"
   ],
   "metadata": {
    "collapsed": false,
    "pycharm": {
     "name": "#%%\n",
     "is_executing": false
    }
   }
  },
  {
   "cell_type": "code",
   "execution_count": 215,
   "outputs": [],
   "source": [
    "#Lowercase, trim spaces, lines... etc, and remove non-letter characters.\n",
    "def normalizeString(s):\n",
    "    s = unicodeToAscii(s.lower().strip())\n",
    "    # Replace any .!? by a whitespace + the character --> '!' = ' !'\n",
    "    s = re.sub(r\"([.!?])\", r\" \\1\", s)\n",
    "    # Remove any character that is not a sequence of lower or upper case letters\n",
    "    s = re.sub(r\"[^a-zA-Z.!?]+\", r\" \", s)\n",
    "    # Remove sequence of whitespace chracters\n",
    "    s = re.sub(r\"\\s+\", r\" \", s).strip()\n",
    "    return s"
   ],
   "metadata": {
    "collapsed": false,
    "pycharm": {
     "name": "#%%\n",
     "is_executing": false
    }
   }
  },
  {
   "cell_type": "code",
   "execution_count": 216,
   "outputs": [
    {
     "name": "stdout",
     "text": [
      "Reading nad processing file....Please Wait\n",
      "Done Reading!\n"
     ],
     "output_type": "stream"
    }
   ],
   "source": [
    "datafile = os.path.join('cornell movie-dialogs corpus', 'formatted_movie_lines.txt')\n",
    "# Read the file and split into lines\n",
    "print('Reading nad processing file....Please Wait')\n",
    "lines = open(datafile, encoding='utf-8').read().strip().split('\\n')\n",
    "# Split every line into pairs and normalize\n",
    "pairs = [[normalizeString(s) for s in pair.split('\\t')] for pair in lines]\n",
    "print('Done Reading!')\n",
    "voc = Vocabulary('cornell movie-dialogs corpus')"
   ],
   "metadata": {
    "collapsed": false,
    "pycharm": {
     "name": "#%%\n",
     "is_executing": false
    }
   }
  },
  {
   "cell_type": "code",
   "execution_count": 217,
   "outputs": [],
   "source": [
    "# Returns true if both sentences in a pair 'p' are under the MAX threshold\n",
    "MAX_LENGTH = 10 # Maxiumum sentence length to consider (max words)\n",
    "def filterPair(p):\n",
    "    return len(p[0].split()) < MAX_LENGTH and len(p[1].split()) < MAX_LENGTH\n",
    "\n",
    "# Filter pairs using filterPair condition\n",
    "def filterPairs(pairs):\n",
    "    return [pair for pair in pairs if filterPair(pair)]"
   ],
   "metadata": {
    "collapsed": false,
    "pycharm": {
     "name": "#%%\n",
     "is_executing": false
    }
   }
  },
  {
   "cell_type": "code",
   "execution_count": 218,
   "outputs": [
    {
     "name": "stdout",
     "text": [
      "There are 221282 pairs/conversations in the dataset\n",
      "After filtering, there are 64271 pairs/conversations\n"
     ],
     "output_type": "stream"
    }
   ],
   "source": [
    "pairs = [pair for pair in pairs if len(pair)>1]\n",
    "print(\"There are {} pairs/conversations in the dataset\".format(len(pairs)))\n",
    "pairs = filterPairs(pairs)\n",
    "print(\"After filtering, there are {} pairs/conversations\".format(len(pairs)))"
   ],
   "metadata": {
    "collapsed": false,
    "pycharm": {
     "name": "#%%\n",
     "is_executing": false
    }
   }
  },
  {
   "cell_type": "code",
   "execution_count": 219,
   "outputs": [
    {
     "name": "stdout",
     "text": [
      "Counted words:  18054\n"
     ],
     "output_type": "stream"
    }
   ],
   "source": [
    "#Loop through each pair of sentences and add the question and reply to the vocabulary \n",
    "for pair in pairs:\n",
    "    for sentence in pair: \n",
    "        voc.addSentence(sentence)\n",
    "        \n",
    "print('Counted words: ', voc.num_words) "
   ],
   "metadata": {
    "collapsed": false,
    "pycharm": {
     "name": "#%%\n",
     "is_executing": false
    }
   }
  },
  {
   "cell_type": "code",
   "execution_count": 220,
   "outputs": [
    {
     "name": "stdout",
     "text": [
      "keep_words 7840 / 18051 = 0.4343\nTrimmed from 64271 pairs to 53191, 0.8276049851410434 of total\n"
     ],
     "output_type": "stream"
    }
   ],
   "source": [
    "MIN_COUNT = 3\n",
    "\n",
    "def trimRareWords(voc, pairs, MIN_COUNT):\n",
    "    # Trim words used under the MIN_COUNT threshold for trimming\n",
    "    voc.trim(MIN_COUNT)\n",
    "    # Filter out pairs with trimmed words\n",
    "    keep_pairs = []\n",
    "    for pair in pairs:\n",
    "        input_sentence = pair[0]\n",
    "        output_sentence = pair[1]\n",
    "        keep_input = True\n",
    "        keep_output = True\n",
    "        #Check input sentence\n",
    "        for word in input_sentence.split(' '):\n",
    "            if word not in voc.word2index:\n",
    "                keep_input = False\n",
    "                break\n",
    "        #Check output sentence\n",
    "        for word in output_sentence.split(' '):\n",
    "            if word not in voc.word2index:\n",
    "                keep_output = False\n",
    "                break\n",
    "        \n",
    "        # Only keeps pairs that do not contain trimmed word(s) in their input or output sentence\n",
    "        if keep_input and keep_output:\n",
    "            keep_pairs.append(pair)\n",
    "    \n",
    "    print(\"Trimmed from {} pairs to {}, {:4} of total\".format(len(pairs), len(keep_pairs), len(keep_pairs) / len(pairs)))\n",
    "    return keep_pairs\n",
    "\n",
    "# Trim voc and pairs\n",
    "pairs = trimRareWords(voc, pairs, MIN_COUNT)"
   ],
   "metadata": {
    "collapsed": false,
    "pycharm": {
     "name": "#%%\n",
     "is_executing": false
    }
   }
  },
  {
   "cell_type": "code",
   "execution_count": 221,
   "outputs": [],
   "source": [
    "def indexesFromSentence(voc, sentence):\n",
    "    return [voc.word2index[word] for word in sentence.split(' ')] + [EOS_token]"
   ],
   "metadata": {
    "collapsed": false,
    "pycharm": {
     "name": "#%%\n",
     "is_executing": false
    }
   }
  },
  {
   "cell_type": "code",
   "execution_count": 222,
   "outputs": [],
   "source": [
    "def zeroPadding(l, fillvalue = 0):\n",
    "    return list(itertools.zip_longest(*l, fillvalue=fillvalue))"
   ],
   "metadata": {
    "collapsed": false,
    "pycharm": {
     "name": "#%%\n",
     "is_executing": false
    }
   }
  },
  {
   "cell_type": "code",
   "execution_count": 223,
   "outputs": [],
   "source": [
    "def binaryMatrix(l, value=0):\n",
    "    m = []\n",
    "    for i, seq in enumerate(l):\n",
    "        m.append([])\n",
    "        for token in seq:\n",
    "            if token == PAD_token:\n",
    "                m[i].append(0)\n",
    "            else:\n",
    "                m[i].append(1)\n",
    "    return m"
   ],
   "metadata": {
    "collapsed": false,
    "pycharm": {
     "name": "#%%\n",
     "is_executing": false
    }
   }
  },
  {
   "cell_type": "code",
   "execution_count": 224,
   "outputs": [],
   "source": [
    "# Returns padded input sequence tensor and as well as a tensor of length for each of the sequences in the batch\n",
    "def inputVar(l, voc):\n",
    "    indexes_batch = [indexesFromSentence(voc, sentence) for sentence in l]\n",
    "    lengths = torch.tensor([len(indexes) for indexes in indexes_batch])\n",
    "    padList = zeroPadding(indexes_batch)\n",
    "    padVar = torch.LongTensor(padList)\n",
    "    # padVar = torch.tensor(padList, dtype=torch.long)\n",
    "    return padVar, lengths"
   ],
   "metadata": {
    "collapsed": false,
    "pycharm": {
     "name": "#%%\n",
     "is_executing": false
    }
   }
  },
  {
   "cell_type": "code",
   "execution_count": 225,
   "outputs": [],
   "source": [
    "# Returns padded target sequence tensor, padding mask and max target length\n",
    "\n",
    "def outputVar(l, voc):\n",
    "    indexes_batch = [indexesFromSentence(voc, sentence) for sentence in l]\n",
    "    max_target_len = max(len(indexes) for indexes in indexes_batch)\n",
    "    padList = zeroPadding(indexes_batch)\n",
    "    mask = binaryMatrix(padList)\n",
    "    mask = torch.ByteTensor(mask)\n",
    "    padVar = torch.LongTensor(padList)\n",
    "    return padVar, mask, max_target_len"
   ],
   "metadata": {
    "collapsed": false,
    "pycharm": {
     "name": "#%%\n",
     "is_executing": false
    }
   }
  },
  {
   "cell_type": "code",
   "execution_count": 226,
   "outputs": [],
   "source": [
    "# Returns all items for a given batch of pairs\n",
    "\n",
    "def batch2TrainData(voc, pair_batch):\n",
    "    #Sort questions in descending length\n",
    "    pair_batch.sort(key=lambda x: len(x[0].split(\" \")), reverse=True)\n",
    "    input_batch, output_batch= [], []\n",
    "    for pair in pair_batch:\n",
    "        input_batch.append(pair[0])\n",
    "        output_batch.append(pair[1])\n",
    "    inp, lengths = inputVar(input_batch, voc)\n",
    "    output, mask, max_target_len = outputVar(output_batch, voc)\n",
    "    \n",
    "    return inp, lengths, output, mask, max_target_len    "
   ],
   "metadata": {
    "collapsed": false,
    "pycharm": {
     "name": "#%%\n",
     "is_executing": false
    }
   }
  },
  {
   "cell_type": "code",
   "execution_count": 227,
   "outputs": [
    {
     "name": "stdout",
     "text": [
      "input_variable:\ntensor([[  80,  318,   50,  379,  659],\n        [   7,  572,   37,  380,    6],\n        [  18,    4,   70,   45,    2],\n        [  12,   50,  581,    4,    0],\n        [1871,  115,    6,    2,    0],\n        [  56,  774,    2,    0,    0],\n        [   9,    6,    0,    0,    0],\n        [3948,    2,    0,    0,    0],\n        [   6,    0,    0,    0,    0],\n        [   2,    0,    0,    0,    0]])\nlengths:  tensor([10,  8,  6,  5,  3])\ntarget_variable:\ntensor([[ 318, 1498,   25, 3305,   33],\n        [  25,  450,   89,   76,   25],\n        [  80,  213,  534,    4,  247],\n        [   4,   53,   34, 1227,  117],\n        [   2,  623, 4981,   76,  118],\n        [   0,   95,    4,  276,   40],\n        [   0,    4,    2,    4, 1508],\n        [   0,    2,    0,    2,    4],\n        [   0,    0,    0,    0,    2]])\nmask:\ntensor([[1, 1, 1, 1, 1],\n        [1, 1, 1, 1, 1],\n        [1, 1, 1, 1, 1],\n        [1, 1, 1, 1, 1],\n        [1, 1, 1, 1, 1],\n        [0, 1, 1, 1, 1],\n        [0, 1, 1, 1, 1],\n        [0, 1, 0, 1, 1],\n        [0, 0, 0, 0, 1]], dtype=torch.uint8)\nmax_target_len:  9\n"
     ],
     "output_type": "stream"
    }
   ],
   "source": [
    "# Example for validation\n",
    "small_batch_size = 5\n",
    "batches = batch2TrainData(voc, [random.choice(pairs) for _ in range(small_batch_size)])\n",
    "input_variable, lengths, target_variable, mask, max_target_len = batches\n",
    "\n",
    "print('input_variable:')\n",
    "print(input_variable)\n",
    "print('lengths: ', lengths)\n",
    "print('target_variable:')\n",
    "print(target_variable)\n",
    "print('mask:')\n",
    "print(mask)\n",
    "print('max_target_len: ' , max_target_len)"
   ],
   "metadata": {
    "collapsed": false,
    "pycharm": {
     "name": "#%%\n",
     "is_executing": false
    }
   }
  },
  {
   "cell_type": "code",
   "execution_count": 228,
   "outputs": [],
   "source": [
    "class EncoderRNN(nn.Module):\n",
    "    def __init__(self, hidden_size, embedding, n_layers=1, dropout= 0):\n",
    "        super(EncoderRNN, self).__init__()\n",
    "        self.n_layers = n_layers\n",
    "        self.hidden_size = hidden_size\n",
    "        self.embedding = embedding\n",
    "        # Initialize GRU; the input_size and hidden_size_params are both set to 'hidden_size'\n",
    "        # because our input size is a word embedding with number of features == hidden_size\n",
    "        self.gru = nn.GRU(hidden_size, hidden_size, n_layers,\n",
    "                          dropout=(0 if n_layers == 1 else dropout), bidirectional=True)\n",
    "    \n",
    "    def forward(self, input_seq, input_lengths, hidden=None):\n",
    "        # input_seq: batch of input sentences; shape=(max_lengths, batch_size)\n",
    "        # input_lengths: list of sentence lengths corresponding to each sentence in the batch\n",
    "        # hidden state, of shape: (n_layers x num_directions, batch_size, hidden_size)\n",
    "        # Convert word indexes to embeddings\n",
    "        embedded = self.embedding(input_seq)\n",
    "        # Pack padded batch of sequences for RNN module\n",
    "        packed = torch.nn.utils.rnn.pack_padded_sequence(embedded, input_lengths)\n",
    "        # Forward pass through GRU\n",
    "        outputs, hidden = self.gru(packed, hidden)\n",
    "        # Unpack padding\n",
    "        outputs, _ = torch.nn.utils.rnn.pad_packed_sequence(outputs)\n",
    "        # Sum bidirectional GRU outputs\n",
    "        outputs = outputs[:, :, :self.hidden_size] + outputs[:, :, self.hidden_size:]\n",
    "        # Return output and final hidden state\n",
    "        return outputs, hidden\n",
    "        # outputs: the output features h_t from the last layer ofr the GRU, for each timestep (sum of bidirectional outputs)\n",
    "        # outputs shape=(max_length, batch_size, hidden_size)\n",
    "        # hidden: hidden state for the last timestep, of shape(n_layers x num_directions, batch_size, hidden_size)"
   ],
   "metadata": {
    "collapsed": false,
    "pycharm": {
     "name": "#%%\n",
     "is_executing": false
    }
   }
  },
  {
   "cell_type": "code",
   "execution_count": 229,
   "outputs": [],
   "source": [
    "# Luong attention layer\n",
    "class Attn(torch.nn.Module):\n",
    "    def __init__(self, method, hidden_size):\n",
    "        super(Attn, self).__init__()\n",
    "        self.method = method\n",
    "        self.hidden_size = hidden_size\n",
    "        \n",
    "    def dot_score(self, hidden, encoder_output):\n",
    "        # Element-Wise Multiply the current target decoder state with encoder output and sum them\n",
    "        return torch.sum(hidden * encoder_output, dim=2)\n",
    "    \n",
    "    def forward(self, hidden, encoder_outputs):\n",
    "        # hidden of shape (1, batch_size, hidden_size)\n",
    "        # encoder_outputs of shape (max_length, batch_size, hidden_size)\n",
    "        # (1, batch_size, hidden_size) * (max_length, batch_size, hidden_size) = (max_length, batch_size, hidden_size)\n",
    "        \n",
    "        # Calculate the attention weights (energies)\n",
    "        attn_energies = self.dot_score(hidden, encoder_outputs)\n",
    "        # Transpose max_length and batch_size dimensions\n",
    "        attn_energies = attn_energies.t()\n",
    "        # Return the softmax normalized probability scores (with added dimension)\n",
    "        return F.softmax(attn_energies, dim=1).unsqueeze(1)"
   ],
   "metadata": {
    "collapsed": false,
    "pycharm": {
     "name": "#%%\n",
     "is_executing": false
    }
   }
  },
  {
   "cell_type": "code",
   "execution_count": 230,
   "outputs": [],
   "source": [
    "class LuongDecoderRNN(nn.Module):\n",
    "    def __init__(self, attn_model, embedding, hidden_size, output_size, n_layers=1, dropout=0.1):\n",
    "        super(LuongDecoderRNN, self).__init__()\n",
    "        self.attn_model = attn_model\n",
    "        self.hidden_size = hidden_size,\n",
    "        self.output_size = output_size,\n",
    "        self.n_layers = n_layers,\n",
    "        self.dropout = dropout\n",
    "        \n",
    "        # Define layers\n",
    "        self.embedding = embedding\n",
    "        self.embedding_dropout = nn.Dropout(dropout)\n",
    "        self.gru = nn.GRU(hidden_size, hidden_size, n_layers, dropout=(0 if n_layers == 1 else dropout))\n",
    "        self.concat = nn.Linear(hidden_size * 2, hidden_size)\n",
    "        self.out = nn.Linear(hidden_size, output_size)\n",
    "        \n",
    "        self.attn = Attn(attn_model, hidden_size)\n",
    "        \n",
    "    def forward (self, input_step, last_hidden, encoder_outputs):\n",
    "        # input_step: one time step (one word) of input sequence batch; shape =(1, batch_size)\n",
    "        # last_hidden: final hidden state of GRU; shape=(n_layers x num_directions, batch_size, hidden_size)\n",
    "        # encoder_output: encoder model's output; shape(max_length, batch_size, hidden_size)\n",
    "        # Note: we run this one step (batch of words) at a time\n",
    "            \n",
    "        # Get embedding of current input word\n",
    "        embedded = self.embedding(input_step)\n",
    "        embedded = self.embedding_dropout(embedded)\n",
    "        \n",
    "        # Forward through unidirectional GRU\n",
    "        rnn_output, hidden = self.gru(embedded, last_hidden)\n",
    "        \n",
    "        # Calculate attention weights from the current GRU output\n",
    "        attn_weights = self.attn(rnn_output, encoder_outputs)\n",
    "        \n",
    "        # Multiply attention weights to encoder outputs to get new \"weighted sum\" context vector\n",
    "        # (batch_size, 1, max_length) bmm with (batch_size, max_length, hidden) = (batch_size, 1, hidden)\n",
    "        context = attn_weights.bmm(encoder_outputs.transpose(0,1))\n",
    "        \n",
    "        # Concatenate weighted context vector and GRU output\n",
    "        rnn_output = rnn_output.squeeze(0)\n",
    "        context = context.squeeze(1)\n",
    "        concat_input = torch.cat((rnn_output, context), 1)\n",
    "        concat_output = torch.tanh(self.concat(concat_input))\n",
    "        \n",
    "        # Predict next word using Luong eq. 6\n",
    "        output = self.out(concat_output)\n",
    "        output = F.softmax(output, dim=1)\n",
    "        return output, hidden\n",
    "    \n",
    "        # output: softmax normalized tensor giving probabilities of each word being the correct next word int decoded sequence\n",
    "        # shape=(batch_size, voc.num_words)\n",
    "        # hidden: final hidden state of GRU; shape=(n_layers x num_directions, batch_size, hidden_size)"
   ],
   "metadata": {
    "collapsed": false,
    "pycharm": {
     "name": "#%%\n",
     "is_executing": false
    }
   }
  },
  {
   "cell_type": "code",
   "execution_count": 231,
   "outputs": [],
   "source": [
    "def maskNLLLoss(decoder_out, target, mask):\n",
    "    nTotal = mask.sum()\n",
    "    target = target.view(-1, 1)\n",
    "    # decoder_out; shape = (batch_size, vocab_size), target_size = (batch_size, 1)\n",
    "    gathered_tensor = torch.gather(decoder_out, 1, target)\n",
    "    # calculate the Negative Log Likehood Loss\n",
    "    crossEntropy = -torch.log(gathered_tensor)\n",
    "    # Select the non-zero elements\n",
    "    loss = crossEntropy.masked_select(mask)\n",
    "    # Calculate the mean if the loss\n",
    "    loss = loss.mean()\n",
    "    loss = loss.to(device)\n",
    "    return loss, nTotal.item()"
   ],
   "metadata": {
    "collapsed": false,
    "pycharm": {
     "name": "#%%\n",
     "is_executing": false
    }
   }
  },
  {
   "cell_type": "code",
   "execution_count": 232,
   "outputs": [
    {
     "name": "stdout",
     "text": [
      "input_variable shape:  torch.Size([8, 5])\nlengths shape:  torch.Size([5])\ntarget_variable_shape:  torch.Size([10, 5])\nmask shape:  torch.Size([10, 5])\nmax_target_length 10\n",
      "Encoder Outputs Shape: torch.Size([8, 5, 500])\nLast Encoder Hidden Shape: torch.Size([4, 5, 500])\nInitial Decoder Input Shape: torch.Size([1, 5])\ntensor([[1, 1, 1, 1, 1]])\nInitial Decoder hidden state shape: torch.Size([2, 5, 500])\n\n\n------------------------------------------------------------\nNow let's look what's happening in every timestep of the GRU!\n------------------------------------------------------------\n\n\nDecoder Output Shape:  torch.Size([5, 7843])\nDecoder Hidden Shape:  torch.Size([2, 5, 500])\nThe target variable at the current timestep before reshaping: tensor([197, 227,  95, 401, 784])\nThe target variable at the current timestep shape before reshaping: torch.Size([5])\nThe Decoder input shape (reshape the target variable): torch.Size([1, 5])\nThe mask at the current timestep: tensor([1, 1, 1, 1, 1], dtype=torch.uint8)\nThe mask at the current timestep.shape torch.Size([5])\nMask Loss: tensor(8.9549, grad_fn=<MeanBackward0>)\nTotal: 5\n[44.77464199066162]\n5\nReturned Loss:  8.954928398132324\n\n\n-----------------DONE ONE TIMESTEP-----------------\n\n\nDecoder Output Shape:  torch.Size([5, 7843])\nDecoder Hidden Shape:  torch.Size([2, 5, 500])\nThe target variable at the current timestep before reshaping: tensor([117,  40,   4, 159,   4])\nThe target variable at the current timestep shape before reshaping: torch.Size([5])\nThe Decoder input shape (reshape the target variable): torch.Size([1, 5])\nThe mask at the current timestep: tensor([1, 1, 1, 1, 1], dtype=torch.uint8)\nThe mask at the current timestep.shape torch.Size([5])\nMask Loss: tensor(8.9343, grad_fn=<MeanBackward0>)\nTotal: 5\n[44.77464199066162, 44.67132091522217]\n10\nReturned Loss:  8.944596290588379\n\n\n-----------------DONE ONE TIMESTEP-----------------\n\n\nDecoder Output Shape:  torch.Size([5, 7843])\nDecoder Hidden Shape:  torch.Size([2, 5, 500])\nThe target variable at the current timestep before reshaping: tensor([2632,   60,    2,   66,   25])\nThe target variable at the current timestep shape before reshaping: torch.Size([5])\nThe Decoder input shape (reshape the target variable): torch.Size([1, 5])\nThe mask at the current timestep: tensor([1, 1, 1, 1, 1], dtype=torch.uint8)\nThe mask at the current timestep.shape torch.Size([5])\nMask Loss: tensor(8.9946, grad_fn=<MeanBackward0>)\nTotal: 5\n[44.77464199066162, 44.67132091522217, 44.97281074523926]\n15\nReturned Loss:  8.961251576741537\n\n\n-----------------DONE ONE TIMESTEP-----------------\n\n\nDecoder Output Shape:  torch.Size([5, 7843])\nDecoder Hidden Shape:  torch.Size([2, 5, 500])\nThe target variable at the current timestep before reshaping: tensor([2618,    4,    0,    2,  379])\nThe target variable at the current timestep shape before reshaping: torch.Size([5])\nThe Decoder input shape (reshape the target variable): torch.Size([1, 5])\nThe mask at the current timestep: tensor([1, 1, 0, 1, 1], dtype=torch.uint8)\nThe mask at the current timestep.shape torch.Size([5])\nMask Loss: tensor(8.9821, grad_fn=<MeanBackward0>)\nTotal: 4\n[44.77464199066162, 44.67132091522217, 44.97281074523926, 35.92823791503906]\n19\nReturned Loss:  8.965632187692743\n\n\n-----------------DONE ONE TIMESTEP-----------------\n\n\n",
      "Decoder Output Shape:  torch.Size([5, 7843])\nDecoder Hidden Shape:  torch.Size([2, 5, 500])\nThe target variable at the current timestep before reshaping: tensor([  4,   2,   0,   0, 250])\nThe target variable at the current timestep shape before reshaping: torch.Size([5])\nThe Decoder input shape (reshape the target variable): torch.Size([1, 5])\nThe mask at the current timestep: tensor([1, 1, 0, 0, 1], dtype=torch.uint8)\nThe mask at the current timestep.shape torch.Size([5])\nMask Loss: tensor(9.0206, grad_fn=<MeanBackward0>)\nTotal: 3\n[44.77464199066162, 44.67132091522217, 44.97281074523926, 35.92823791503906, 27.061760902404785]\n22\nReturned Loss:  8.973126021298496\n\n\n-----------------DONE ONE TIMESTEP-----------------\n\n\nDecoder Output Shape:  torch.Size([5, 7843])\nDecoder Hidden Shape:  torch.Size([2, 5, 500])\nThe target variable at the current timestep before reshaping: tensor([  2,   0,   0,   0, 443])\nThe target variable at the current timestep shape before reshaping: torch.Size([5])\nThe Decoder input shape (reshape the target variable): torch.Size([1, 5])\nThe mask at the current timestep: tensor([1, 0, 0, 0, 1], dtype=torch.uint8)\nThe mask at the current timestep.shape torch.Size([5])\nMask Loss: tensor(8.9986, grad_fn=<MeanBackward0>)\nTotal: 2\n[44.77464199066162, 44.67132091522217, 44.97281074523926, 35.92823791503906, 27.061760902404785, 17.99721908569336]\n24\nReturned Loss:  8.975249648094177\n\n\n-----------------DONE ONE TIMESTEP-----------------\n\n\nDecoder Output Shape:  torch.Size([5, 7843])\nDecoder Hidden Shape:  torch.Size([2, 5, 500])\nThe target variable at the current timestep before reshaping: tensor([ 0,  0,  0,  0, 36])\nThe target variable at the current timestep shape before reshaping: torch.Size([5])\nThe Decoder input shape (reshape the target variable): torch.Size([1, 5])\nThe mask at the current timestep: tensor([0, 0, 0, 0, 1], dtype=torch.uint8)\nThe mask at the current timestep.shape torch.Size([5])\nMask Loss: tensor(9.0008, grad_fn=<MeanBackward0>)\nTotal: 1\n[44.77464199066162, 44.67132091522217, 44.97281074523926, 35.92823791503906, 27.061760902404785, 17.99721908569336, 9.000808715820312]\n25\nReturned Loss:  8.976272010803223\n\n\n-----------------DONE ONE TIMESTEP-----------------\n\n\nDecoder Output Shape:  torch.Size([5, 7843])\nDecoder Hidden Shape:  torch.Size([2, 5, 500])\nThe target variable at the current timestep before reshaping: tensor([   0,    0,    0,    0, 1530])\nThe target variable at the current timestep shape before reshaping: torch.Size([5])\nThe Decoder input shape (reshape the target variable): torch.Size([1, 5])\nThe mask at the current timestep: tensor([0, 0, 0, 0, 1], dtype=torch.uint8)\nThe mask at the current timestep.shape torch.Size([5])\nMask Loss: tensor(9.0024, grad_fn=<MeanBackward0>)\nTotal: 1\n[44.77464199066162, 44.67132091522217, 44.97281074523926, 35.92823791503906, 27.061760902404785, 17.99721908569336, 9.000808715820312, 9.00239372253418]\n26\nReturned Loss:  8.977276692023644\n\n\n-----------------DONE ONE TIMESTEP-----------------\n\n\nDecoder Output Shape:  torch.Size([5, 7843])\nDecoder Hidden Shape:  torch.Size([2, 5, 500])\nThe target variable at the current timestep before reshaping: tensor([0, 0, 0, 0, 4])\nThe target variable at the current timestep shape before reshaping: torch.Size([5])\nThe Decoder input shape (reshape the target variable): torch.Size([1, 5])\nThe mask at the current timestep: tensor([0, 0, 0, 0, 1], dtype=torch.uint8)\nThe mask at the current timestep.shape torch.Size([5])\nMask Loss: tensor(8.9893, grad_fn=<MeanBackward0>)\nTotal: 1\n[44.77464199066162, 44.67132091522217, 44.97281074523926, 35.92823791503906, 27.061760902404785, 17.99721908569336, 9.000808715820312, 9.00239372253418, 8.989262580871582]\n27\nReturned Loss:  8.977720613832828\n\n\n-----------------DONE ONE TIMESTEP-----------------\n\n\nDecoder Output Shape:  torch.Size([5, 7843])\nDecoder Hidden Shape:  torch.Size([2, 5, 500])\nThe target variable at the current timestep before reshaping: tensor([0, 0, 0, 0, 2])\nThe target variable at the current timestep shape before reshaping: torch.Size([5])\nThe Decoder input shape (reshape the target variable): torch.Size([1, 5])\nThe mask at the current timestep: tensor([0, 0, 0, 0, 1], dtype=torch.uint8)\nThe mask at the current timestep.shape torch.Size([5])\nMask Loss: tensor(8.9916, grad_fn=<MeanBackward0>)\nTotal: 1\n[44.77464199066162, 44.67132091522217, 44.97281074523926, 35.92823791503906, 27.061760902404785, 17.99721908569336, 9.000808715820312, 9.00239372253418, 8.989262580871582, 8.99164867401123]\n28\nReturned Loss:  8.978218044553484\n\n\n-----------------DONE ONE TIMESTEP-----------------\n\n\n"
     ],
     "output_type": "stream"
    },
    {
     "name": "stderr",
     "text": [
      "/opt/conda/conda-bld/pytorch_1565287142374/work/aten/src/ATen/native/LegacyDefinitions.cpp:48: UserWarning: masked_select received a mask with dtype torch.uint8, this behavior is now deprecated,please use a mask with dtype torch.bool instead.\n/opt/conda/conda-bld/pytorch_1565287142374/work/aten/src/ATen/native/LegacyDefinitions.cpp:48: UserWarning: masked_select received a mask with dtype torch.uint8, this behavior is now deprecated,please use a mask with dtype torch.bool instead.\n/opt/conda/conda-bld/pytorch_1565287142374/work/aten/src/ATen/native/LegacyDefinitions.cpp:48: UserWarning: masked_select received a mask with dtype torch.uint8, this behavior is now deprecated,please use a mask with dtype torch.bool instead.\n/opt/conda/conda-bld/pytorch_1565287142374/work/aten/src/ATen/native/LegacyDefinitions.cpp:48: UserWarning: masked_select received a mask with dtype torch.uint8, this behavior is now deprecated,please use a mask with dtype torch.bool instead.\n/opt/conda/conda-bld/pytorch_1565287142374/work/aten/src/ATen/native/LegacyDefinitions.cpp:48: UserWarning: masked_select received a mask with dtype torch.uint8, this behavior is now deprecated,please use a mask with dtype torch.bool instead.\n/opt/conda/conda-bld/pytorch_1565287142374/work/aten/src/ATen/native/LegacyDefinitions.cpp:48: UserWarning: masked_select received a mask with dtype torch.uint8, this behavior is now deprecated,please use a mask with dtype torch.bool instead.\n/opt/conda/conda-bld/pytorch_1565287142374/work/aten/src/ATen/native/LegacyDefinitions.cpp:48: UserWarning: masked_select received a mask with dtype torch.uint8, this behavior is now deprecated,please use a mask with dtype torch.bool instead.\n/opt/conda/conda-bld/pytorch_1565287142374/work/aten/src/ATen/native/LegacyDefinitions.cpp:48: UserWarning: masked_select received a mask with dtype torch.uint8, this behavior is now deprecated,please use a mask with dtype torch.bool instead.\n/opt/conda/conda-bld/pytorch_1565287142374/work/aten/src/ATen/native/LegacyDefinitions.cpp:48: UserWarning: masked_select received a mask with dtype torch.uint8, this behavior is now deprecated,please use a mask with dtype torch.bool instead.\n/opt/conda/conda-bld/pytorch_1565287142374/work/aten/src/ATen/native/LegacyDefinitions.cpp:48: UserWarning: masked_select received a mask with dtype torch.uint8, this behavior is now deprecated,please use a mask with dtype torch.bool instead.\n"
     ],
     "output_type": "stream"
    }
   ],
   "source": [
    "# Visualising what's happening in one iteration. Only run for visualization.\n",
    "\n",
    "small_batch_size = 5\n",
    "batches = batch2TrainData(voc, [random.choice(pairs) for _ in range(small_batch_size)])\n",
    "input_variable, lengths, target_variable, mask, max_target_len = batches\n",
    "\n",
    "print(\"input_variable shape: \" , input_variable.shape)\n",
    "print(\"lengths shape: \", lengths.shape)\n",
    "print(\"target_variable_shape: \", target_variable.shape)\n",
    "print(\"mask shape: \", mask.shape)\n",
    "print(\"max_target_length\", max_target_len)\n",
    "\n",
    "# Define the parameters\n",
    "hidden_size = 500\n",
    "encoder_n_layers = 2\n",
    "decoder_n_layers = 2\n",
    "dropout = 0.1\n",
    "attn_model = \"dot\"\n",
    "embedding = nn.Embedding(voc.num_words, hidden_size)\n",
    "\n",
    "# Define the encoder and decoder\n",
    "encoder = EncoderRNN(hidden_size, embedding, encoder_n_layers, dropout)\n",
    "decoder = LuongDecoderRNN(attn_model, embedding, hidden_size, voc.num_words, decoder_n_layers, dropout)\n",
    "encoder = encoder.to(device)\n",
    "decoder = decoder.to(device)\n",
    "\n",
    "# Ensure dropout layers are in train mode\n",
    "encoder.train()\n",
    "decoder.train()\n",
    "\n",
    "# Initialize optimizers\n",
    "encoder_optimizer = optim.Adam(encoder.parameters(), lr=0.0001) # lr = learning rate\n",
    "decoder_optimizer = optim.Adam(decoder.parameters(), lr=0.0001)\n",
    "encoder_optimizer.zero_grad()\n",
    "decoder_optimizer.zero_grad()\n",
    "\n",
    "input_variable = input_variable.to(device)\n",
    "lengths = lengths.to(device)\n",
    "target_variable = target_variable.to(device)\n",
    "mask = mask.to(device)\n",
    "\n",
    "loss = 0\n",
    "print_losses = []\n",
    "n_totals = 0\n",
    "\n",
    "encoder_outputs, encoder_hidden = encoder(input_variable, lengths)\n",
    "print(\"Encoder Outputs Shape:\", encoder_outputs.shape)\n",
    "print(\"Last Encoder Hidden Shape:\", encoder_hidden.shape)\n",
    "\n",
    "decoder_input = torch.LongTensor([[SOS_token for _ in range(small_batch_size)]])\n",
    "decoder_input = decoder_input.to(device)\n",
    "print(\"Initial Decoder Input Shape:\",decoder_input.shape)\n",
    "print(decoder_input)\n",
    "\n",
    "# Set initial decoder hidden state to encoder's final hidden state\n",
    "decoder_hidden = encoder_hidden[:decoder_n_layers]\n",
    "print(\"Initial Decoder hidden state shape:\", decoder_hidden.shape)\n",
    "print(\"\\n\")\n",
    "print(\"------------------------------------------------------------\")\n",
    "print(\"Now let's look what's happening in every timestep of the GRU!\")\n",
    "print(\"------------------------------------------------------------\")\n",
    "print(\"\\n\")\n",
    "\n",
    "# Assume we are using teacher forcing\n",
    "\n",
    "for t in range (max_target_len):\n",
    "    decoder_output, decoder_hidden = decoder(decoder_input, decoder_hidden, encoder_outputs)\n",
    "    print(\"Decoder Output Shape: \", decoder_output.shape)\n",
    "    print(\"Decoder Hidden Shape: \", decoder_hidden.shape)\n",
    "    # Teacher forcing: next input is current target\n",
    "    \n",
    "    decoder_input = target_variable[t].view(1, -1)\n",
    "    print(\"The target variable at the current timestep before reshaping:\", target_variable[t])\n",
    "    print(\"The target variable at the current timestep shape before reshaping:\", target_variable[t].shape)\n",
    "    print(\"The Decoder input shape (reshape the target variable):\", decoder_input.shape)\n",
    "    # Calculate and accumulate Loss\n",
    "    print(\"The mask at the current timestep:\", mask[t])\n",
    "    print(\"The mask at the current timestep.shape\", mask[t].shape)\n",
    "    mask_loss, nTotal = maskNLLLoss(decoder_output, target_variable[t], mask[t])\n",
    "    print(\"Mask Loss:\", mask_loss)\n",
    "    print(\"Total:\", nTotal)\n",
    "    loss += mask_loss\n",
    "    print_losses.append(mask_loss.item() * nTotal)\n",
    "    print(print_losses)\n",
    "    n_totals += nTotal\n",
    "    print(n_totals)\n",
    "    encoder_optimizer.step()\n",
    "    decoder_optimizer.step()\n",
    "    returned_loss = sum(print_losses) / n_totals\n",
    "    print(\"Returned Loss: \" , returned_loss)\n",
    "    print(\"\\n\")\n",
    "    print(\"-----------------DONE ONE TIMESTEP-----------------\")\n",
    "    print(\"\\n\")\n"
   ],
   "metadata": {
    "collapsed": false,
    "pycharm": {
     "name": "#%%\n",
     "is_executing": false
    }
   }
  }
 ],
 "metadata": {
  "kernelspec": {
   "display_name": "Python 3",
   "language": "python",
   "name": "python3"
  },
  "language_info": {
   "codemirror_mode": {
    "name": "ipython",
    "version": 2
   },
   "file_extension": ".py",
   "mimetype": "text/x-python",
   "name": "python",
   "nbconvert_exporter": "python",
   "pygments_lexer": "ipython2",
   "version": "2.7.6"
  },
  "pycharm": {
   "stem_cell": {
    "cell_type": "raw",
    "source": [],
    "metadata": {
     "collapsed": false
    }
   }
  }
 },
 "nbformat": 4,
 "nbformat_minor": 0
}